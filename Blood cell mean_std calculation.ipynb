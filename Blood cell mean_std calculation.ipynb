{
 "cells": [
  {
   "cell_type": "code",
   "execution_count": null,
   "id": "62be445d",
   "metadata": {},
   "outputs": [],
   "source": [
    "#Our  mean and standard deviation of our Blood cell Images"
   ]
  },
  {
   "cell_type": "code",
   "execution_count": 2,
   "id": "52fe77cd",
   "metadata": {},
   "outputs": [],
   "source": [
    "import os\n",
    "import torch\n",
    "import torchvision\n",
    "import torchvision.transforms as transforms"
   ]
  },
  {
   "cell_type": "code",
   "execution_count": 4,
   "id": "a1d454fd",
   "metadata": {},
   "outputs": [
    {
     "data": {
      "text/plain": [
       "['EOSINOPHIL', 'LYMPHOCYTE', 'MONOCYTE', 'NEUTROPHIL']"
      ]
     },
     "execution_count": 4,
     "metadata": {},
     "output_type": "execute_result"
    }
   ],
   "source": [
    "os.listdir('C:/Users/user pc/Desktop/ML_DEEP/DEEP/BloodCell Classification/dataset2-master/dataset2-master/images/TRAIN')"
   ]
  },
  {
   "cell_type": "code",
   "execution_count": 5,
   "id": "890ffeb2",
   "metadata": {},
   "outputs": [],
   "source": [
    "training_path = 'C:/Users/user pc/Desktop/ML_DEEP/DEEP/BloodCell Classification/dataset2-master/dataset2-master/images/TRAIN'"
   ]
  },
  {
   "cell_type": "code",
   "execution_count": 6,
   "id": "c5761c05",
   "metadata": {},
   "outputs": [],
   "source": [
    "training_transforms = transforms.Compose([transforms.Resize((224,224)), transforms.ToTensor()])"
   ]
  },
  {
   "cell_type": "code",
   "execution_count": 7,
   "id": "5e0fba9e",
   "metadata": {},
   "outputs": [],
   "source": [
    "train_datasets = torchvision.datasets.ImageFolder(root = training_path,transform = training_transforms)"
   ]
  },
  {
   "cell_type": "code",
   "execution_count": 8,
   "id": "98393770",
   "metadata": {},
   "outputs": [],
   "source": [
    "train_loader = torch.utils.data.DataLoader(train_datasets, batch_size=32, shuffle=False)"
   ]
  },
  {
   "cell_type": "code",
   "execution_count": 9,
   "id": "7fbabf02",
   "metadata": {},
   "outputs": [],
   "source": [
    "def mean_std(loader):\n",
    "    mean = 0\n",
    "    std = 0\n",
    "    total_image_count = 0\n",
    "    for images,_ in loader:\n",
    "        image_count_in_batch = images.size(0)\n",
    "        images = images.view(image_count_in_batch, images.size(1), -1)\n",
    "        mean += images.mean(2).sum(0)\n",
    "        std += images.std(2).sum(0)\n",
    "        total_image_count += image_count_in_batch\n",
    "        \n",
    "    mean /= total_image_count\n",
    "    std /= total_image_count\n",
    "        \n",
    "    return mean, std  "
   ]
  },
  {
   "cell_type": "code",
   "execution_count": 10,
   "id": "155ebc77",
   "metadata": {},
   "outputs": [
    {
     "data": {
      "text/plain": [
       "(tensor([0.6788, 0.6414, 0.6606]), tensor([0.2580, 0.2576, 0.2550]))"
      ]
     },
     "execution_count": 10,
     "metadata": {},
     "output_type": "execute_result"
    }
   ],
   "source": [
    "mean_std(train_loader)\n"
   ]
  },
  {
   "cell_type": "code",
   "execution_count": null,
   "id": "9d68ffd5",
   "metadata": {},
   "outputs": [],
   "source": []
  }
 ],
 "metadata": {
  "kernelspec": {
   "display_name": "Python 3 (ipykernel)",
   "language": "python",
   "name": "python3"
  },
  "language_info": {
   "codemirror_mode": {
    "name": "ipython",
    "version": 3
   },
   "file_extension": ".py",
   "mimetype": "text/x-python",
   "name": "python",
   "nbconvert_exporter": "python",
   "pygments_lexer": "ipython3",
   "version": "3.9.17"
  }
 },
 "nbformat": 4,
 "nbformat_minor": 5
}
